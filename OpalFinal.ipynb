{
 "cells": [
  {
   "cell_type": "code",
   "execution_count": 0,
   "metadata": {
    "collapsed": false
   },
   "outputs": [
   ],
   "source": [
    "#%pip install uproot \n",
    "#%pip install awkward \n",
    "#%pip install mplhep \n",
    "#%pip install numpy \n",
    "#%pip install matplotlib \n",
    "#%pip install scipy\n",
    "#%pip install uproot awkward mplhep numpy matplotlib scipy --upgrade"
   ]
  },
  {
   "cell_type": "code",
   "execution_count": 0,
   "metadata": {
    "collapsed": false
   },
   "outputs": [
   ],
   "source": [
    "import uproot\n",
    "import awkward as ak\n",
    "import mplhep \n",
    "import numpy as np\n",
    "import matplotlib.pyplot as plt\n",
    "import matplotlib.colors as mcolors\n",
    "from scipy.optimize import curve_fit\n",
    "import scipy.stats as st"
   ]
  },
  {
   "cell_type": "code",
   "execution_count": 0,
   "metadata": {
    "collapsed": false
   },
   "outputs": [
   ],
   "source": [
    "var1 = 'Pcharged'\n",
    "var2 = 'cos_thet'\n",
    "var3 = 'E_ecal'\n",
    "var4 = 'Ncharged'\n",
    "var5 = 'E_hcal'\n",
    "var6 = 'E_lep'\n",
    "var7 = 'cos_thru'\n",
    "\n",
    "### (Un)comment that for the real opal data until \"until here\"\n",
    "path_data = 'opal_data/data/'\n",
    "file = uproot.open(path_data+'daten_4.root')\n",
    "ttree_name = 'myTTree'\n",
    "file[ttree_name].keys()\n",
    "branches = file[ttree_name].arrays()\n",
    "pchar = ak.to_numpy(branches[var1])\n",
    "cos_theta = ak.to_numpy(branches[var2])\n",
    "Ecal = ak.to_numpy(branches[var3])\n",
    "nchar = ak.to_numpy(branches[var4])\n",
    "Hcal = ak.to_numpy(branches[var5])\n",
    "Elep = ak.to_numpy(branches[var6])\n",
    "### until here\n",
    "print(len(pchar))"
   ]
  },
  {
   "cell_type": "code",
   "execution_count": 0,
   "metadata": {
    "collapsed": false
   },
   "outputs": [
   ],
   "source": [
    "plt.figure()\n",
    "new_bin_content, new_bin_edges, _ = plt.hist(Elep,bins=100,range=(44,47),  histtype='step', linewidth=2, label=r'cos($\\theta$)')\n",
    "plt.xticks()"
   ]
  },
  {
   "cell_type": "markdown",
   "metadata": {
    "collapsed": false
   },
   "source": [
    "# Applying all the cuts for 7 Beam Energies"
   ]
  },
  {
   "cell_type": "code",
   "execution_count": 0,
   "metadata": {
    "collapsed": false
   },
   "outputs": [
   ],
   "source": [
    "### FOR BEAM ENERGY 1\n",
    "### These lines calculate the diagonal efficiencies --- 'mw' means mynewmask as usually ## 1 = ee, 2 = qq, 3= mm, 4=tt\n",
    "mw11_1 = (branches['E_ecal'] <= 120) & (branches['E_ecal'] >= 70) & (branches['Ncharged'] <= 5) & (branches['E_lep']>=44) & (branches['E_lep']<=44.5) & (branches['cos_thet'] >= -0.5) & (branches['cos_thet'] <= 0.5) \n",
    "############################################ Seperation of s- and t-channel\n",
    "# Calculating the theoretical events in range [-1,0.5] and [0.5,1] by integration of do/dthet = A(1+x^2) in the range of [-1,1] and [-0.5,0.5] and then taking the ratio of it... \n",
    "#ratio = (25*3)/(24*4) ### this is the amount of data in the range of [-0.5,0.5] considering all datapoints, thus \n",
    "#ratio_ = 1/ratio ### is the amount of data in the othe regions;)\n",
    "#N_total =  sum(mw11_1)*ratio_\n",
    "#N_cut = sum(mw11_1)\n",
    "#N_cutted = N_total - N_cut\n",
    "########################################################\n",
    "mw22_1 = (branches['Ncharged'] >= 10) & (branches['Ncharged'] <= 60) & (branches['E_lep']>=44) & (branches['E_lep']<=44.5) \n",
    "mw33_1 = (branches['Ncharged'] <= 3) & (branches['E_ecal'] <= 10) & (branches['E_lep']>=44) & (branches['E_lep']<=44.5) \n",
    "mw44_1 = (branches['Ncharged'] <= 8) & (branches['E_ecal'] >= 10) & (branches['E_ecal'] <= 60) & (branches['E_lep']>=44) & (branches['E_lep']<=44.5) \n",
    "\n",
    "data_1 = np.asarray([sum(mw11_1),sum(mw22_1),sum(mw33_1),sum(mw44_1)])"
   ]
  },
  {
   "cell_type": "code",
   "execution_count": 0,
   "metadata": {
    "collapsed": false
   },
   "outputs": [
   ],
   "source": [
   ]
  },
  {
   "cell_type": "code",
   "execution_count": 0,
   "metadata": {
    "collapsed": false
   },
   "outputs": [
   ],
   "source": [
    "### FOR BEAM ENERGY 2\n",
    "### These lines calculate the diagonal efficiencies --- 'mw' means mynewmask as usually ## 1 = ee, 2 = qq, 3= mm, 4=tt\n",
    "mw11_2 = (branches['E_ecal'] <= 120) & (branches['E_ecal'] >= 70) & (branches['Ncharged'] <= 5) & (branches['E_ecal'] <= 60) & (branches['E_lep']>=44.5) & (branches['E_lep']<=45) & (branches['cos_thet'] >= -0.5) & (branches['cos_thet'] <= 0.5) \n",
    "############################################ Seperation of s- and t-channel\n",
    "# Calculating the theoretical events in range [-1,0.5] and [0.5,1] by integration of do/dthet = A(1+x^2) in the range of [-1,1] and [-0.5,0.5] and then taking the ratio of it... \n",
    "#ratio = (25*3)/(24*4) ### this is the amount of data in the range of [-0.5,0.5] considering all datapoints, thus \n",
    "#ratio_ = 1/ratio ### is the amount of data in the othe regions;)\n",
    "#N_total =  sum(mw11_2)*ratio_\n",
    "#N_cut = sum(mw11_2)\n",
    "#N_cutted = N_total - N_cut\n",
    "########################################################\n",
    "mw22_2 = (branches['Ncharged'] >= 10) & (branches['Ncharged'] <= 60) & (branches['E_lep']>=44.5) & (branches['E_lep']<=45) \n",
    "mw33_2 = (branches['Ncharged'] <= 3) & (branches['E_ecal'] <= 10) & (branches['E_lep']>=44.5) & (branches['E_lep']<=45) \n",
    "mw44_2 = (branches['Ncharged'] <= 8) & (branches['E_ecal'] >= 10) & (branches['E_ecal'] <= 60) & (branches['E_lep']>=44.5) & (branches['E_lep']<=45) \n",
    "\n",
    "data_2 = np.asarray([sum(mw11_2),sum(mw22_2),sum(mw33_2),sum(mw44_2)])"
   ]
  },
  {
   "cell_type": "code",
   "execution_count": 0,
   "metadata": {
    "collapsed": false
   },
   "outputs": [
   ],
   "source": [
    "### FOR BEAM ENERGY 3\n",
    "### These lines calculate the diagonal efficiencies --- 'mw' means mynewmask as usually ## 1 = ee, 2 = qq, 3= mm, 4=tt\n",
    "mw11_3 = (branches['E_ecal'] <= 120) & (branches['E_ecal'] >= 70) & (branches['Ncharged'] <= 5) & (branches['E_ecal'] <= 60) & (branches['E_lep']>=45) & (branches['E_lep']<=45.5) & (branches['cos_thet'] >= -0.5) & (branches['cos_thet'] <= 0.5) \n",
    "############################################ Seperation of s- and t-channel\n",
    "# Calculating the theoretical events in range [-1,0.5] and [0.5,1] by integration of do/dthet = A(1+x^2) in the range of [-1,1] and [-0.5,0.5] and then taking the ratio of it... \n",
    "#ratio = (25*3)/(24*4) ### this is the amount of data in the range of [-0.5,0.5] considering all datapoints, thus \n",
    "#ratio_ = 1/ratio ### is the amount of data in the othe regions;)\n",
    "#N_total =  sum(mw11_3)*ratio_\n",
    "#N_cut = sum(mw11_3)\n",
    "#N_cutted = N_total - N_cut\n",
    "########################################################\n",
    "mw22_3 = (branches['Ncharged'] >= 10) & (branches['Ncharged'] <= 60) & (branches['E_lep']>=45) & (branches['E_lep']<=45.5) \n",
    "mw33_3 = (branches['Ncharged'] <= 3) & (branches['E_ecal'] <= 10) & (branches['E_lep']>=45) & (branches['E_lep']<=45.5) \n",
    "mw44_3 = (branches['Ncharged'] <= 8) & (branches['E_ecal'] >= 10) & (branches['E_ecal'] <= 60) & (branches['E_lep']>=45) & (branches['E_lep']<=45.5) \n",
    "\n",
    "data_3 = np.asarray([sum(mw11_3),sum(mw22_3),sum(mw33_3),sum(mw44_3)])"
   ]
  },
  {
   "cell_type": "code",
   "execution_count": 0,
   "metadata": {
    "collapsed": false
   },
   "outputs": [
   ],
   "source": [
    "### FOR BEAM ENERGY 4\n",
    "### These lines calculate the diagonal efficiencies --- 'mw' means mynewmask as usually ## 1 = ee, 2 = qq, 3= mm, 4=tt\n",
    "mw11_4 = (branches['E_ecal'] <= 120) & (branches['E_ecal'] >= 70) & (branches['Ncharged'] <= 5) & (branches['E_ecal'] <= 60) & (branches['E_lep']>=45.5) & (branches['E_lep']<=45.8)  & (branches['cos_thet'] >= -0.5) & (branches['cos_thet'] <= 0.5) \n",
    "############################################ Seperation of s- and t-channel\n",
    "# Calculating the theoretical events in range [-1,0.5] and [0.5,1] by integration of do/dthet = A(1+x^2) in the range of [-1,1] and [-0.5,0.5] and then taking the ratio of it... \n",
    "#ratio = (25*3)/(24*4) ### this is the amount of data in the range of [-0.5,0.5] considering all datapoints, thus \n",
    "#ratio_ = 1/ratio ### is the amount of data in the othe regions;)\n",
    "#N_total =  sum(mw11_4)*ratio_\n",
    "#N_cut = sum(mw11_4)\n",
    "#N_cutted = N_total - N_cut\n",
    "########################################################\n",
    "mw22_4 = (branches['Ncharged'] >= 10) & (branches['Ncharged'] <= 60) & (branches['E_lep']>=45.5) & (branches['E_lep']<=45.8) \n",
    "mw33_4 = (branches['Ncharged'] <= 3) & (branches['E_ecal'] <= 10) & (branches['E_lep']>=45.5) & (branches['E_lep']<=45.8)\n",
    "mw44_4 = (branches['Ncharged'] <= 8) & (branches['E_ecal'] >= 10) & (branches['E_ecal'] <= 60) & (branches['E_lep']>=45.5) & (branches['E_lep']<=45.8)\n",
    "\n",
    "data_4 = np.asarray([sum(mw11_4),sum(mw22_4),sum(mw33_4),sum(mw44_4)])"
   ]
  },
  {
   "cell_type": "code",
   "execution_count": 0,
   "metadata": {
    "collapsed": false
   },
   "outputs": [
   ],
   "source": [
    "### FOR BEAM ENERGY 5\n",
    "### These lines calculate the diagonal efficiencies --- 'mw' means mynewmask as usually ## 1 = ee, 2 = qq, 3= mm, 4=tt\n",
    "mw11_5 = (branches['E_ecal'] <= 120) & (branches['E_ecal'] >= 70) & (branches['Ncharged'] <= 5) & (branches['E_ecal'] <= 60) & (branches['E_lep']>=45.7) & (branches['E_lep']<=46.2)  & (branches['cos_thet'] >= -0.5) & (branches['cos_thet'] <= 0.5) \n",
    "############################################ Seperation of s- and t-channel\n",
    "# Calculating the theoretical events in range [-1,0.5] and [0.5,1] by integration of do/dthet = A(1+x^2) in the range of [-1,1] and [-0.5,0.5] and then taking the ratio of it... \n",
    "#ratio = (25*3)/(24*4) ### this is the amount of data in the range of [-0.5,0.5] considering all datapoints, thus \n",
    "#ratio_ = 1/ratio ### is the amount of data in the othe regions;)\n",
    "#N_total =  sum(mw11_5)*ratio_\n",
    "#N_cut = sum(mw11_5)\n",
    "#N_cutted = N_total - N_cut\n",
    "########################################################\n",
    "mw22_5 = (branches['Ncharged'] >= 10) & (branches['Ncharged'] <= 60) & (branches['E_lep']>=45.7) & (branches['E_lep']<=46.2) \n",
    "mw33_5 = (branches['Ncharged'] <= 3) & (branches['E_ecal'] <= 10) & (branches['E_lep']>=45.7) & (branches['E_lep']<=46.2) \n",
    "mw44_5 = (branches['Ncharged'] <= 8) & (branches['E_ecal'] >= 10) & (branches['E_ecal'] <= 60) & (branches['E_lep']>=45.7) & (branches['E_lep']<=46.2) \n",
    "\n",
    "data_5 = np.asarray([sum(mw11_5),sum(mw22_5),sum(mw33_5),sum(mw44_5)])"
   ]
  },
  {
   "cell_type": "code",
   "execution_count": 0,
   "metadata": {
    "collapsed": false
   },
   "outputs": [
   ],
   "source": [
    "### FOR BEAM ENERGY 6\n",
    "### These lines calculate the diagonal efficiencies --- 'mw' means mynewmask as usually ## 1 = ee, 2 = qq, 3= mm, 4=tt\n",
    "mw11_6 = (branches['E_ecal'] <= 120) & (branches['E_ecal'] >= 70) & (branches['Ncharged'] <= 5) & (branches['E_ecal'] <= 60) & (branches['E_lep']>=46.2) & (branches['E_lep']<=46.5)  & (branches['cos_thet'] >= -0.5) & (branches['cos_thet'] <= 0.5)\n",
    "############################################ Seperation of s- and t-channel\n",
    "# Calculating the theoretical events in range [-1,0.5] and [0.5,1] by integration of do/dthet = A(1+x^2) in the range of [-1,1] and [-0.5,0.5] and then taking the ratio of it... \n",
    "#ratio = (25*3)/(24*4) ### this is the amount of data in the range of [-0.5,0.5] considering all datapoints, thus \n",
    "#ratio_ = 1/ratio ### is the amount of data in the othe regions;)\n",
    "#N_total =  sum(mw11_6)*ratio_\n",
    "#N_cut = sum(mw11_6)\n",
    "#N_cutted = N_total - N_cut\n",
    "########################################################\n",
    "mw22_6 = (branches['Ncharged'] >= 10) & (branches['Ncharged'] <= 60) & (branches['E_lep']>=46.2) & (branches['E_lep']<=46.5) \n",
    "mw33_6 = (branches['Ncharged'] <= 3) & (branches['E_ecal'] <= 10) & (branches['E_lep']>=46.2) & (branches['E_lep']<=46.5)\n",
    "mw44_6 = (branches['Ncharged'] <= 8) & (branches['E_ecal'] >= 10) & (branches['E_ecal'] <= 60) & (branches['E_lep']>=46.2) & (branches['E_lep']<=46.5)\n",
    "\n",
    "data_6 = np.asarray([sum(mw11_6),sum(mw22_6),sum(mw33_6),sum(mw44_6)])"
   ]
  },
  {
   "cell_type": "code",
   "execution_count": 0,
   "metadata": {
    "collapsed": false
   },
   "outputs": [
   ],
   "source": [
    "### FOR BEAM ENERGY 7\n",
    "### These lines calculate the diagonal efficiencies --- 'mw' means mynewmask as usually ## 1 = ee, 2 = qq, 3= mm, 4=tt\n",
    "mw11_7 = (branches['E_ecal'] <= 120) & (branches['E_ecal'] >= 70) & (branches['Ncharged'] <= 5) & (branches['E_ecal'] <= 60) & (branches['E_lep']>=46.6) & (branches['E_lep']<=47)  & (branches['cos_thet'] >= -0.5) & (branches['cos_thet'] <= 0.5)\n",
    "############################################ Seperation of s- and t-channel\n",
    "# Calculating the theoretical events in range [-1,0.5] and [0.5,1] by integration of do/dthet = A(1+x^2) in the range of [-1,1] and [-0.5,0.5] and then taking the ratio of it... \n",
    "#ratio = (25*3)/(24*4) ### this is the amount of data in the range of [-0.5,0.5] considering all datapoints, thus \n",
    "#ratio_ = 1/ratio ### is the amount of data in the othe regions;)\n",
    "#N_total =  sum(mw11_7)*ratio_\n",
    "#N_cut = sum(mw11_7)\n",
    "#N_cutted = N_total - N_cut\n",
    "########################################################\n",
    "mw22_7 = (branches['Ncharged'] >= 10) & (branches['Ncharged'] <= 60) & (branches['E_lep']>=46.6) & (branches['E_lep']<=47) \n",
    "mw33_7 = (branches['Ncharged'] <= 3) & (branches['E_ecal'] <= 10) & (branches['E_lep']>=46.6) & (branches['E_lep']<=47) \n",
    "mw44_7 = (branches['Ncharged'] <= 8) & (branches['E_ecal'] >= 10) & (branches['E_ecal'] <= 60) & (branches['E_lep']>=46.6) & (branches['E_lep']<=47) \n",
    "\n",
    "data_7 = np.asarray([sum(mw11_7),sum(mw22_7),sum(mw33_7),sum(mw44_7)])"
   ]
  },
  {
   "cell_type": "code",
   "execution_count": 0,
   "metadata": {
    "collapsed": false
   },
   "outputs": [
   ],
   "source": [
    "## import the efficiency matrix from mc datasets\n",
    "eff_all = np.load('eff_matrix.npy')\n",
    "print(eff_all) ## is the same!\n",
    "## inverse efficiency matrix\n",
    "inv_eff = np.linalg.inv(eff_all)\n",
    "#print(inv_eff)"
   ]
  },
  {
   "cell_type": "code",
   "execution_count": 0,
   "metadata": {
    "collapsed": false
   },
   "outputs": [
   ],
   "source": [
    "corrdata_1 = inv_eff.dot(data_1) ## multiplying (eff)^-1 with cutted channels\n",
    "corrdata_2 = inv_eff.dot(data_2)\n",
    "corrdata_3 = inv_eff.dot(data_3)\n",
    "corrdata_4 = inv_eff.dot(data_4)\n",
    "corrdata_5 = inv_eff.dot(data_5)\n",
    "corrdata_6 = inv_eff.dot(data_6)\n",
    "corrdata_7 = inv_eff.dot(data_7)\n",
    "print(corrdata_1)\n",
    "print(type(corrdata_1))"
   ]
  },
  {
   "cell_type": "code",
   "execution_count": 0,
   "metadata": {
    "collapsed": false
   },
   "outputs": [
   ],
   "source": [
    "Lum = np.asarray([463.9790, 667.5236, 486.7641, 2246.568, 535.9080, 450.6000, 709.6980]) ## importing luminosities\n",
    "E_beam = np.asarray([88.47939,89.46793,90.22266,91.22430,91.96648,92.96465,93.71712]) ## importing Ebeam"
   ]
  },
  {
   "cell_type": "code",
   "execution_count": 0,
   "metadata": {
    "collapsed": false
   },
   "outputs": [
   ],
   "source": [
    "## Calculate the cross sections for beam energy 1:\n",
    "sigma_ee_1 = corrdata_1[0]/Lum[0]\n",
    "sigma_qq_1 = corrdata_1[1]/Lum[0]\n",
    "sigma_mm_1 = corrdata_1[2]/Lum[0]\n",
    "sigma_tt_1 = corrdata_1[3]/Lum[0]"
   ]
  },
  {
   "cell_type": "code",
   "execution_count": 0,
   "metadata": {
    "collapsed": false
   },
   "outputs": [
   ],
   "source": [
    "## Calculate the cross sections for beam energy 2:\n",
    "sigma_ee_2 = corrdata_2[0]/Lum[1]\n",
    "sigma_qq_2 = corrdata_2[1]/Lum[1]\n",
    "sigma_mm_2 = corrdata_2[2]/Lum[1]\n",
    "sigma_tt_2 = corrdata_2[3]/Lum[1]"
   ]
  },
  {
   "cell_type": "code",
   "execution_count": 0,
   "metadata": {
    "collapsed": false
   },
   "outputs": [
   ],
   "source": [
    "## Calculate the cross sections for beam energy 3:\n",
    "sigma_ee_3 = corrdata_3[0]/Lum[2]\n",
    "sigma_qq_3 = corrdata_3[1]/Lum[2]\n",
    "sigma_mm_3 = corrdata_3[2]/Lum[2]\n",
    "sigma_tt_3 = corrdata_3[3]/Lum[2]"
   ]
  },
  {
   "cell_type": "code",
   "execution_count": 0,
   "metadata": {
    "collapsed": false
   },
   "outputs": [
   ],
   "source": [
    "## Calculate the cross sections for beam energy 4:\n",
    "sigma_ee_4 = corrdata_4[0]/Lum[3]\n",
    "sigma_qq_4 = corrdata_4[1]/Lum[3]\n",
    "sigma_mm_4 = corrdata_4[2]/Lum[3]\n",
    "sigma_tt_4 = corrdata_4[3]/Lum[3]"
   ]
  },
  {
   "cell_type": "code",
   "execution_count": 0,
   "metadata": {
    "collapsed": false
   },
   "outputs": [
   ],
   "source": [
    "## Calculate the cross sections for beam energy 5:\n",
    "sigma_ee_5 = corrdata_5[0]/Lum[4]\n",
    "sigma_qq_5 = corrdata_5[1]/Lum[4]\n",
    "sigma_mm_5 = corrdata_5[2]/Lum[4]\n",
    "sigma_tt_5 = corrdata_5[3]/Lum[4]"
   ]
  },
  {
   "cell_type": "code",
   "execution_count": 0,
   "metadata": {
    "collapsed": false
   },
   "outputs": [
   ],
   "source": [
    "## Calculate the cross sections for beam energy 6:\n",
    "sigma_ee_6 = corrdata_6[0]/Lum[5]\n",
    "sigma_qq_6 = corrdata_6[1]/Lum[5]\n",
    "sigma_mm_6 = corrdata_6[2]/Lum[5]\n",
    "sigma_tt_6 = corrdata_6[3]/Lum[5]"
   ]
  },
  {
   "cell_type": "code",
   "execution_count": 0,
   "metadata": {
    "collapsed": false
   },
   "outputs": [
   ],
   "source": [
    "## Calculate the cross sections for beam energy 7:\n",
    "sigma_ee_7 = corrdata_7[0]/Lum[6]\n",
    "sigma_qq_7 = corrdata_7[1]/Lum[6]\n",
    "sigma_mm_7 = corrdata_7[2]/Lum[6]\n",
    "sigma_tt_7 = corrdata_7[3]/Lum[6]\n",
    "\n",
    "print(type(sigma_tt_7))"
   ]
  },
  {
   "cell_type": "code",
   "execution_count": 0,
   "metadata": {
    "collapsed": false
   },
   "outputs": [
   ],
   "source": [
    "## radiative corrections:\n",
    "cor_lep = np.asarray([0.09,0.20,0.36,0.52,0.22,-0.01,-0.08])\n",
    "cor_had = np.asarray([2.0, 4.3, 7.7, 10.8, 4.7, -0.2, -1.6])\n",
    "## 1\n",
    "sigma_ee_corr_1 = sigma_ee_1 + cor_lep[0]\n",
    "sigma_qq_corr_1 = sigma_qq_1 + cor_had[0]\n",
    "sigma_mm_corr_1 = sigma_mm_1 + cor_lep[0]\n",
    "sigma_tt_corr_1 = sigma_tt_1 + cor_lep[0]\n",
    "## 2\n",
    "sigma_ee_corr_2 = sigma_ee_2 + cor_lep[1]\n",
    "sigma_qq_corr_2 = sigma_qq_2 + cor_had[1]\n",
    "sigma_mm_corr_2 = sigma_mm_2 + cor_lep[1]\n",
    "sigma_tt_corr_2 = sigma_tt_2 + cor_lep[1]\n",
    "## 3\n",
    "sigma_ee_corr_3 = sigma_ee_3 + cor_lep[2]\n",
    "sigma_qq_corr_3 = sigma_qq_3 + cor_had[2]\n",
    "sigma_mm_corr_3 = sigma_mm_3 + cor_lep[2]\n",
    "sigma_tt_corr_3 = sigma_tt_3 + cor_lep[2]\n",
    "## 4\n",
    "sigma_ee_corr_4 = sigma_ee_4 + cor_lep[3]\n",
    "sigma_qq_corr_4 = sigma_qq_4 + cor_had[3]\n",
    "sigma_mm_corr_4 = sigma_mm_4 + cor_lep[3]\n",
    "sigma_tt_corr_4 = sigma_tt_4 + cor_lep[3]\n",
    "## 5\n",
    "sigma_ee_corr_5 = sigma_ee_5 + cor_lep[4]\n",
    "sigma_qq_corr_5 = sigma_qq_5 + cor_had[4]\n",
    "sigma_mm_corr_5 = sigma_mm_5 + cor_lep[4]\n",
    "sigma_tt_corr_5 = sigma_tt_5 + cor_lep[4]\n",
    "## 6\n",
    "sigma_ee_corr_6 = sigma_ee_6 + cor_lep[5]\n",
    "sigma_qq_corr_6 = sigma_qq_6 + cor_had[5]\n",
    "sigma_mm_corr_6 = sigma_mm_6 + cor_lep[5]\n",
    "sigma_tt_corr_6 = sigma_tt_6 + cor_lep[5]\n",
    "## 7\n",
    "sigma_ee_corr_7 = sigma_ee_7 + cor_lep[6]\n",
    "sigma_qq_corr_7 = sigma_qq_7 + cor_had[6]\n",
    "sigma_mm_corr_7 = sigma_mm_7 + cor_lep[6]\n",
    "sigma_tt_corr_7 = sigma_tt_7 + cor_lep[6]\n",
    "## pudding all together\n",
    "sigma_ee = np.asarray([sigma_ee_corr_1,sigma_ee_corr_2,sigma_ee_corr_3,sigma_ee_corr_4,sigma_ee_corr_5,sigma_ee_corr_6,sigma_ee_corr_7])\n",
    "sigma_qq = np.asarray([sigma_qq_corr_1, sigma_qq_corr_2, sigma_qq_corr_3, sigma_qq_corr_4, sigma_qq_corr_5, sigma_qq_corr_6, sigma_qq_corr_7])\n",
    "sigma_mm = np.asarray([sigma_mm_corr_1, sigma_mm_corr_2, sigma_mm_corr_3, sigma_mm_corr_4, sigma_mm_corr_5, sigma_mm_corr_6, sigma_mm_corr_7])\n",
    "sigma_tt = np.asarray([sigma_tt_corr_1,sigma_tt_corr_2,sigma_tt_corr_3,sigma_tt_corr_4,sigma_tt_corr_5,sigma_tt_corr_6,sigma_tt_corr_7])"
   ]
  },
  {
   "cell_type": "markdown",
   "metadata": {
    "collapsed": false
   },
   "source": [
    "# Breit-Wigner Function fittings"
   ]
  },
  {
   "cell_type": "code",
   "execution_count": 0,
   "metadata": {
    "collapsed": false
   },
   "outputs": [
   ],
   "source": [
    "print(min(sigma_ee), min(sigma_qq),min(sigma_mm),min(sigma_tt))"
   ]
  },
  {
   "cell_type": "code",
   "execution_count": 0,
   "metadata": {
    "collapsed": false
   },
   "outputs": [
   ],
   "source": [
    "def BWF(x,K,M,G): ### K=prop. parameter ; x = cent. of mass energy ; G = Gamma =  Resonance width ; M= mass of resonance\n",
    "    return K/((x**2-M**2)**2 + (M**2)*(G**2))"
   ]
  },
  {
   "cell_type": "code",
   "execution_count": 0,
   "metadata": {
    "collapsed": false
   },
   "outputs": [
   ],
   "source": [
    "pint_ee = [10000,91,1]\n",
    "pint_qq = [10000,91,3]\n",
    "pint_mm = [10000,91,2]\n",
    "pint_tt = [10000,91,2]\n",
    "popt_ee, pcov_ee = curve_fit(BWF,E_beam,sigma_ee, p0=pint_ee)\n",
    "popt_qq, pcov_qq = curve_fit(BWF,E_beam,sigma_qq, p0=pint_qq)\n",
    "popt_mm, pcov_mm = curve_fit(BWF,E_beam,sigma_mm, p0=pint_mm)\n",
    "popt_tt, pcov_tt = curve_fit(BWF,E_beam,sigma_tt, p0=pint_tt)"
   ]
  },
  {
   "cell_type": "code",
   "execution_count": 0,
   "metadata": {
    "collapsed": false
   },
   "outputs": [
   ],
   "source": [
    "#normalize the crosssections by adding all cross sections at the peak position and set this as 1 \n",
    "overall_cross = popt_ee[0]/(popt_ee[1]**2*popt_ee[2]**2)+popt_qq[0]/(popt_qq[1]**2*popt_qq[2]**2)+popt_mm[0]/(popt_mm[1]**2*popt_mm[2]**2)+popt_tt[0]/(popt_tt[1]**2*popt_tt[2]**2)\n",
    "###  re define the cross sections from above \n",
    "sigma_ee = sigma_ee/overall_cross\n",
    "sigma_qq = sigma_qq/overall_cross\n",
    "sigma_mm = sigma_mm/overall_cross\n",
    "sigma_tt = sigma_tt/overall_cross"
   ]
  },
  {
   "cell_type": "code",
   "execution_count": 0,
   "metadata": {
    "collapsed": false
   },
   "outputs": [
   ],
   "source": [
    "def gammaf_ee(cross_ee,G_Z_ee,M_Z_ee):\n",
    "    return np.sqrt((cross_ee*(M_Z_ee)**2*(G_Z_ee)**2*overall_cross)/(12*np.pi))\n",
    "def gammaf(cross,G_Z,M_Z, G_ee):\n",
    "    return (cross_ee*(M_Z_ee)**2*(G_Z_ee)**2*overall_cross)/(12*np.pi*G_ee)"
   ]
  },
  {
   "cell_type": "code",
   "execution_count": 0,
   "metadata": {
    "collapsed": false
   },
   "outputs": [
   ],
   "source": [
    "plt.figure(figsize=(10,7))\n",
    "plt.plot(E_beam,sigma_ee,'o', label='ee-crosssection')\n",
    "#plt.plot(E_beam, sigma_qq,'o',label='qq-crosssection')\n",
    "plt.plot(E_beam, sigma_mm,'o',label='mm-crosssection')\n",
    "plt.plot(E_beam, sigma_tt,'o',label='tt-crosssection')\n",
    "plt.plot(np.linspace(88.47939,93.71712,1000), BWF(np.linspace(88,94,1000),*popt_ee)/overall_cross,label='fit: ee')\n",
    "#plt.plot(np.linspace(88,94,1000), BWF(np.linspace(88,94,1000),*popt_qq)/overall_cross,label='fit: qq')\n",
    "plt.plot(np.linspace(88,94,1000), BWF(np.linspace(88,94,1000),*popt_mm)/overall_cross,label='fit: mm')\n",
    "plt.plot(np.linspace(88,94,1000), BWF(np.linspace(88,94,1000),*popt_tt)/overall_cross,label='fit: tt')\n",
    "plt.xlabel('Center of mass energy [GeV]')\n",
    "plt.ylabel('Cross section')\n",
    "plt.grid()\n",
    "#plt.ylim(0,0.3*10**(3))\n",
    "plt.legend()"
   ]
  },
  {
   "cell_type": "code",
   "execution_count": 0,
   "metadata": {
    "collapsed": false
   },
   "outputs": [
   ],
   "source": [
    "plt.figure(figsize=(10,7))\n",
    "plt.plot(E_beam, sigma_qq,'o',label='qq-crosssection')\n",
    "plt.plot(np.linspace(88,94,1000), BWF(np.linspace(88,94,1000),*popt_qq)/overall_cross,label='fit: qq')\n",
    "plt.xlabel('Center of mass energy [GeV]')\n",
    "plt.ylabel('Cross section')\n",
    "plt.grid()\n",
    "#plt.ylim(0,0.3*10**(3))\n",
    "plt.legend()"
   ]
  },
  {
   "cell_type": "code",
   "execution_count": 0,
   "metadata": {
    "collapsed": false
   },
   "outputs": [
   ],
   "source": [
    "### calculating decay widths\n",
    "Gamma_ee = gammaf_ee(BWF(popt_ee[1],popt_ee[0],popt_ee[1],popt_ee[2]),popt_ee[2],popt_ee[1])\n",
    "print(Gamma_ee)"
   ]
  },
  {
   "cell_type": "markdown",
   "metadata": {
    "collapsed": false
   },
   "source": [
    "# Forward Backward Asymmetry"
   ]
  },
  {
   "cell_type": "code",
   "execution_count": 0,
   "metadata": {
    "collapsed": false
   },
   "outputs": [
   ],
   "source": [
    "## Calculating the cross section for muons in the regions of cos_theta  [-1,0] and  [0,1] seperately\n",
    "muon_inv_eff = inv_eff[2][2]"
   ]
  },
  {
   "cell_type": "code",
   "execution_count": 0,
   "metadata": {
    "collapsed": false
   },
   "outputs": [
   ],
   "source": [
    "## backward scattering\n",
    "back_1 = mw33_1 & (branches['cos_thet'] <= 0)  \n",
    "back_2 = mw33_2 & (branches['cos_thet'] <= 0)  \n",
    "back_3 = mw33_3 & (branches['cos_thet'] <= 0)  \n",
    "back_4 = mw33_4 & (branches['cos_thet'] <= 0)  \n",
    "back_5 = mw33_5 & (branches['cos_thet'] <= 0)  \n",
    "back_6 = mw33_6 & (branches['cos_thet'] <= 0)  \n",
    "back_7 = mw33_7 & (branches['cos_thet'] <= 0)  \n",
    "##\n",
    "corrback_1 = muon_inv_eff*sum(back_1)\n",
    "corrback_2 = muon_inv_eff*sum(back_2)\n",
    "corrback_3 = muon_inv_eff*sum(back_3)\n",
    "corrback_4 = muon_inv_eff*sum(back_4)\n",
    "corrback_5 = muon_inv_eff*sum(back_5)\n",
    "corrback_6 = muon_inv_eff*sum(back_6)\n",
    "corrback_7 = muon_inv_eff*sum(back_7)\n",
    "##\n",
    "sigma_mm_b_1 = corrback_1/Lum[0]\n",
    "sigma_mm_b_2 = corrback_2/Lum[1]\n",
    "sigma_mm_b_3 = corrback_3/Lum[2]\n",
    "sigma_mm_b_4 = corrback_4/Lum[3]\n",
    "sigma_mm_b_5 = corrback_5/Lum[4]\n",
    "sigma_mm_b_6 = corrback_6/Lum[5]\n",
    "sigma_mm_b_7 = corrback_7/Lum[6]\n",
    "##\n",
    "sigma_mm_corr_b_1 = sigma_mm_b_1 + cor_lep[0]\n",
    "sigma_mm_corr_b_2 = sigma_mm_b_2 + cor_lep[1]\n",
    "sigma_mm_corr_b_3 = sigma_mm_b_3 + cor_lep[2]\n",
    "sigma_mm_corr_b_4 = sigma_mm_b_4 + cor_lep[3]\n",
    "sigma_mm_corr_b_5 = sigma_mm_b_5 + cor_lep[4]\n",
    "sigma_mm_corr_b_6 = sigma_mm_b_6 + cor_lep[5]\n",
    "sigma_mm_corr_b_7 = sigma_mm_b_7 + cor_lep[6]\n",
    "\n",
    "sigma_mm_back = np.asarray([sigma_mm_corr_b_1,sigma_mm_corr_b_2,sigma_mm_corr_b_3,sigma_mm_corr_b_4,sigma_mm_corr_b_5,sigma_mm_corr_b_6,sigma_mm_corr_b_7])\n",
    "\n",
    "## forward scattering\n",
    "forw_1 = mw33_1 & (branches['cos_thet'] >= 0)  \n",
    "forw_2 = mw33_2 & (branches['cos_thet'] >= 0)  \n",
    "forw_3 = mw33_3 & (branches['cos_thet'] >= 0)  \n",
    "forw_4 = mw33_4 & (branches['cos_thet'] >= 0)  \n",
    "forw_5 = mw33_5 & (branches['cos_thet'] >= 0)  \n",
    "forw_6 = mw33_6 & (branches['cos_thet'] >= 0)  \n",
    "forw_7 = mw33_7 & (branches['cos_thet'] >= 0)  \n",
    "##\n",
    "corrforw_1 = muon_inv_eff*sum(forw_1)\n",
    "corrforw_2 = muon_inv_eff*sum(forw_2)\n",
    "corrforw_3 = muon_inv_eff*sum(forw_3)\n",
    "corrforw_4 = muon_inv_eff*sum(forw_4)\n",
    "corrforw_5 = muon_inv_eff*sum(forw_5)\n",
    "corrforw_6 = muon_inv_eff*sum(forw_6)\n",
    "corrforw_7 = muon_inv_eff*sum(forw_7)\n",
    "#\n",
    "sigma_mm_f_1 = corrforw_1/Lum[0]\n",
    "sigma_mm_f_2 = corrforw_2/Lum[1]\n",
    "sigma_mm_f_3 = corrforw_3/Lum[2]\n",
    "sigma_mm_f_4 = corrforw_4/Lum[3]\n",
    "sigma_mm_f_5 = corrforw_5/Lum[4]\n",
    "sigma_mm_f_6 = corrforw_6/Lum[5]\n",
    "sigma_mm_f_7 = corrforw_7/Lum[6]\n",
    "#\n",
    "\n",
    "sigma_mm_corr_f_1 = sigma_mm_f_1 + cor_lep[0]\n",
    "sigma_mm_corr_f_2 = sigma_mm_f_2 + cor_lep[1]\n",
    "sigma_mm_corr_f_3 = sigma_mm_f_3 + cor_lep[2]\n",
    "sigma_mm_corr_f_4 = sigma_mm_f_4 + cor_lep[3]\n",
    "sigma_mm_corr_f_5 = sigma_mm_f_5 + cor_lep[4]\n",
    "sigma_mm_corr_f_6 = sigma_mm_f_6 + cor_lep[5]\n",
    "sigma_mm_corr_f_7 = sigma_mm_f_7 + cor_lep[6]\n",
    "\n",
    "sigma_mm_forw = np.asarray([sigma_mm_corr_f_1,sigma_mm_corr_f_2,sigma_mm_corr_f_3,sigma_mm_corr_f_4,sigma_mm_corr_f_5,sigma_mm_corr_f_6,sigma_mm_corr_f_7])\n",
    "\n"
   ]
  },
  {
   "cell_type": "code",
   "execution_count": 0,
   "metadata": {
    "collapsed": false
   },
   "outputs": [
   ],
   "source": [
   ]
  },
  {
   "cell_type": "code",
   "execution_count": 0,
   "metadata": {
    "collapsed": false
   },
   "outputs": [
   ],
   "source": [
    "plt.figure(figsize=(10,7))\n",
    "plt.plot(E_beam, sigma_mm_back,'o',label='mm-backward-crosssection')\n",
    "plt.plot(E_beam, sigma_mm_forw,'o',label='mm-forward-crosssection')\n",
    "plt.xlabel('Center of mass energy [GeV]')\n",
    "plt.ylabel('Cross section')\n",
    "plt.grid()\n",
    "#plt.ylim(0, 10**(3))\n",
    "plt.legend()"
   ]
  },
  {
   "cell_type": "markdown",
   "metadata": {
    "collapsed": false
   },
   "source": [
    "# Forward-Backward Asymmetry for Monte Carlo"
   ]
  },
  {
   "cell_type": "code",
   "execution_count": 0,
   "metadata": {
    "collapsed": false
   },
   "outputs": [
   ],
   "source": [
    "## Doing it for montecarlo\n",
    "path_datamc = 'opal_data/mc/'\n",
    "filemc = uproot.open(path_datamc+'mm.root')\n",
    "ttree_namemc = 'myTTree'\n",
    "filemc[ttree_namemc].keys()\n",
    "branchesmc = filemc[ttree_namemc].arrays()\n",
    "pchar_mc = ak.to_numpy(branchesmc[var1])\n",
    "cos_theta_mc = ak.to_numpy(branchesmc[var2])\n",
    "Ecal_mc = ak.to_numpy(branchesmc[var3])\n",
    "nchar_mc = ak.to_numpy(branchesmc[var4])\n",
    "Hcal_mc = ak.to_numpy(branchesmc[var5])\n",
    "Elep_mc = ak.to_numpy(branchesmc[var6])\n",
    "## backward\n",
    "mc_mw33_b = (branchesmc['Ncharged'] <= 3) & (branchesmc['E_ecal'] <= 10) & (branchesmc['cos_thet'] <= 0) \n",
    "##\n",
    "mc_corrback = muon_inv_eff*sum(mc_mw33_b)\n",
    "##\n",
    "mc_sigma_mm_b = mc_corrback/Lum[3]\n",
    "##\n",
    "mc_sigma_mm_corr_b = mc_sigma_mm_b + cor_lep[3]\n",
    "\n",
    "mc_sigma_mm_back = mc_sigma_mm_corr_b\n",
    "\n",
    "## forward scattering\n",
    "mc_mw33_f = (branchesmc['Ncharged'] <= 3) & (branchesmc['E_ecal'] <= 10) & (branchesmc['cos_thet'] >= 0) \n",
    "##\n",
    "mc_corrforw = muon_inv_eff*sum(mc_mw33_f)\n",
    "#\n",
    "mc_sigma_mm_f = mc_corrforw/Lum[3]\n",
    "#\n",
    "mc_sigma_mm_corr_f = mc_sigma_mm_f + cor_lep[3]\n",
    "\n",
    "mc_sigma_mm_forw = mc_sigma_mm_corr_f"
   ]
  },
  {
   "cell_type": "code",
   "execution_count": 0,
   "metadata": {
    "collapsed": false
   },
   "outputs": [
   ],
   "source": [
    "print(mc_sigma_mm_forw, mc_sigma_mm_back)\n",
    "print(sigma_mm_forw[3], sigma_mm_back[3])"
   ]
  },
  {
   "cell_type": "code",
   "execution_count": 0,
   "metadata": {
    "collapsed": false
   },
   "outputs": [
   ],
   "source": [
   ]
  }
 ],
 "metadata": {
  "kernelspec": {
   "display_name": "Python 3 (ROOT)",
   "language": "python",
   "name": "python3-root",
   "resource_dir": "/usr/local/share/jupyter/kernels/python3-root"
  },
  "language_info": {
   "codemirror_mode": {
    "name": "ipython",
    "version": 3
   },
   "file_extension": ".py",
   "mimetype": "text/x-python",
   "name": "python",
   "nbconvert_exporter": "python",
   "pygments_lexer": "ipython3",
   "version": "3.8.5"
  }
 },
 "nbformat": 4,
 "nbformat_minor": 4
}