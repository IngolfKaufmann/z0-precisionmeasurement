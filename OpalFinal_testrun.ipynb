{
 "cells": [
  {
   "cell_type": "code",
   "execution_count": 8,
   "metadata": {
    "collapsed": false
   },
   "outputs": [
   ],
   "source": [
    "#%pip install uproot \n",
    "#%pip install awkward \n",
    "#%pip install mplhep \n",
    "#%pip install numpy \n",
    "#%pip install matplotlib \n",
    "#%pip install scipy\n",
    "#%pip install uproot awkward mplhep numpy matplotlib scipy --upgrade"
   ]
  },
  {
   "cell_type": "code",
   "execution_count": 9,
   "metadata": {
    "collapsed": false
   },
   "outputs": [
   ],
   "source": [
    "import uproot\n",
    "import awkward as ak\n",
    "import mplhep \n",
    "import numpy as np\n",
    "import matplotlib.pyplot as plt\n",
    "import matplotlib.colors as mcolors\n",
    "from scipy.optimize import curve_fit\n",
    "import scipy.stats as st"
   ]
  },
  {
   "cell_type": "code",
   "execution_count": 10,
   "metadata": {
    "collapsed": false
   },
   "outputs": [
   ],
   "source": [
    "var1 = 'Pcharged'\n",
    "var2 = 'cos_thet'\n",
    "var3 = 'E_ecal'\n",
    "var4 = 'Ncharged'\n",
    "var5 = 'E_hcal'\n",
    "var6 = 'E_lep'\n",
    "var7 = 'cos_thru'\n",
    "\n",
    "### (Un)comment that for the real opal data until \"until here\"\n",
    "#path_data = 'opal_data/FOLDERNAME'\n",
    "#file = uproot.open(path_data+'FILENAME')\n",
    "#ttree_name = 'myTTree'\n",
    "#file[ttree_name].keys()\n",
    "#branches = file[ttree_name].arrays()\n",
    "#pchar = ak.to_numpy(braches[var1])\n",
    "#cos_theta = ak.to_numpy(branches[var2])\n",
    "#Ecal = ak.to_numpy(branches[var3])\n",
    "#nchar = ak.to_numpy(branches[var4])\n",
    "#Hcal = ak.to_numpy(branches[var5])\n",
    "### until here\n",
    "\n",
    "### This section can later be off commented until it says \"until here\"\n",
    "path_data = 'opal_data/mc/'\n",
    "file1 = uproot.open(path_data+'ee.root')\n",
    "file2 = uproot.open(path_data+'qq.root')\n",
    "file3 = uproot.open(path_data+'mm.root')\n",
    "file4 = uproot.open(path_data+'tt.root')\n",
    "ttree_name = 'myTTree'\n",
    "file1[ttree_name].keys()\n",
    "file2[ttree_name].keys()\n",
    "file3[ttree_name].keys()\n",
    "file4[ttree_name].keys()\n",
    "branches1 = file1[ttree_name].arrays()\n",
    "branches2 = file2[ttree_name].arrays()\n",
    "branches3 = file3[ttree_name].arrays()\n",
    "branches4 = file4[ttree_name].arrays()\n",
    "## converting the ak arrays into np arrays\n",
    "##ee\n",
    "pchar1 = ak.to_numpy(branches1[var1])\n",
    "cos_theta1 = ak.to_numpy(branches1[var2])\n",
    "Ecal1 = ak.to_numpy(branches1[var3])\n",
    "nchar1 = ak.to_numpy(branches1[var4])\n",
    "Hcal1 = ak.to_numpy(branches1[var5])\n",
    "##qq\n",
    "pchar2 = ak.to_numpy(branches2[var1])\n",
    "cos_theta2 = ak.to_numpy(branches2[var2])\n",
    "Ecal2 = ak.to_numpy(branches2[var3])\n",
    "nchar2 = ak.to_numpy(branches2[var4])\n",
    "Hcal2 = ak.to_numpy(branches2[var5])\n",
    "##mm\n",
    "pchar3 = ak.to_numpy(branches3[var1])\n",
    "cos_theta3 = ak.to_numpy(branches3[var2])\n",
    "Ecal3 = ak.to_numpy(branches3[var3])\n",
    "nchar3 = ak.to_numpy(branches3[var4])\n",
    "Hcal3 = ak.to_numpy(branches3[var5])\n",
    "##tt\n",
    "pchar4 = ak.to_numpy(branches4[var1])\n",
    "cos_theta4 = ak.to_numpy(branches4[var2])\n",
    "Ecal4 = ak.to_numpy(branches4[var3])\n",
    "nchar4 = ak.to_numpy(branches4[var4])\n",
    "Hcal4 = ak.to_numpy(branches4[var5])\n",
    "### until here"
   ]
  },
  {
   "cell_type": "markdown",
   "metadata": {
    "collapsed": false
   },
   "source": [
    "# Applying Electrons cut to Hadrons, Muons and Tau"
   ]
  },
  {
   "cell_type": "code",
   "execution_count": 11,
   "metadata": {
    "collapsed": false
   },
   "outputs": [
   ],
   "source": [
    "def eff(x):\n",
    "    return sum(x)/100000"
   ]
  },
  {
   "cell_type": "code",
   "execution_count": 12,
   "metadata": {
    "collapsed": false
   },
   "outputs": [
    {
     "name": "stdout",
     "output_type": "stream",
     "text": [
      "0.78125\n"
     ]
    }
   ],
   "source": [
    "### These lines calculate the diagonal efficiencies --- 'mw' means mynewmask as usually\n",
    "mw11 = (branches1['E_ecal'] <= 120) & (branches1['E_ecal'] >= 70) & (branches1['Ncharged'] <= 5) & (branches1['cos_thet'] >= -0.5) & (branches1['cos_thet'] <= 0.5)\n",
    "############################################ Seperation of s- and t-channel\n",
    "# Calculating the theoretical events in range [-1,0.5] and [0.5,1] by integration of do/dthet = A(1+x^2) in the range of [-1,1] and [-0.5,0.5] and then taking the ratio of it... \n",
    "ratio = (25*3)/(24*4) ### this is the amount of data in the range of [-0.5,0.5] considering all datapoints, thus \n",
    "ratio_ = 1/ratio ### is the amount of data in the othe regions;)\n",
    "N_total =  sum(mw11)*ratio_\n",
    "N_cut = sum(mw11)\n",
    "N_cutted = N_total - N_cut\n",
    "########################################################\n",
    "mw22 = (branches2['Ncharged'] >= 10) & (branches2['Ncharged'] <= 60) \n",
    "mw33 = (branches3['Ncharged'] <= 3) & (branches3['E_ecal'] <= 10) \n",
    "mw44 = (branches4['Ncharged'] <= 8) & (branches4['E_ecal'] >= 10) & (branches4['E_ecal'] <= 60)\n",
    "eff11 = sum(mw11)/N_total\n",
    "eff22 = eff(mw22)\n",
    "eff33 = eff(mw33)\n",
    "eff44 = eff(mw44)\n",
    "print(eff11)"
   ]
  },
  {
   "cell_type": "code",
   "execution_count": 0,
   "metadata": {
    "collapsed": false
   },
   "outputs": [
   ],
   "source": [
   ]
  },
  {
   "cell_type": "code",
   "execution_count": 13,
   "metadata": {
    "collapsed": false
   },
   "outputs": [
   ],
   "source": [
    "### These lines calculate the diagonal efficiencies---- 'mw' means mynewmask as usually\n",
    "## '12' means electron row and hadron column \n",
    "mw12 = (branches2['E_ecal'] <= 120) & (branches2['E_ecal'] >= 70) & (branches2['Ncharged'] <= 5) & (branches2['cos_thet'] >= -0.5) & (branches2['cos_thet'] <= 0.5)\n",
    "mw13 = (branches3['E_ecal'] <= 120) & (branches3['E_ecal'] >= 70) & (branches3['Ncharged'] <= 5) & (branches3['cos_thet'] >= -0.5) & (branches3['cos_thet'] <= 0.5)\n",
    "mw14 = (branches4['E_ecal'] <= 120) & (branches4['E_ecal'] >= 70) & (branches4['Ncharged'] <= 5) & (branches4['cos_thet'] >= -0.5) & (branches4['cos_thet'] <= 0.5)\n",
    "## '21' means hadron rwo and electron column\n",
    "mw21 = (branches1['Ncharged'] >= 10) & (branches1['Ncharged'] <= 60) \n",
    "mw23 = (branches3['Ncharged'] >= 10) & (branches3['Ncharged'] <= 60) \n",
    "mw24 = (branches4['Ncharged'] >= 10) & (branches4['Ncharged'] <= 60) \n",
    "##\n",
    "mw31 = (branches1['Ncharged'] <= 3) & (branches1['E_ecal'] <= 10) \n",
    "mw32 = (branches2['Ncharged'] <= 3) & (branches2['E_ecal'] <= 10) \n",
    "mw34 = (branches4['Ncharged'] <= 3) & (branches4['E_ecal'] <= 10) \n",
    "##\n",
    "mw41 = (branches1['Ncharged'] <= 8) & (branches1['E_ecal'] >= 10) & (branches1['E_ecal'] <= 60)\n",
    "mw42 = (branches2['Ncharged'] <= 8) & (branches2['E_ecal'] >= 10) & (branches2['E_ecal'] <= 60)\n",
    "mw43 = (branches3['Ncharged'] <= 8) & (branches3['E_ecal'] >= 10) & (branches3['E_ecal'] <= 60)\n",
    "###\n",
    "eff12 = eff(mw12)\n",
    "eff13 = eff(mw13)\n",
    "eff14 = eff(mw14)\n",
    "#\n",
    "eff21 = eff(mw21)\n",
    "eff23 = eff(mw23)\n",
    "eff24 = eff(mw24)\n",
    "#\n",
    "eff31 = eff(mw31)\n",
    "eff32 = eff(mw32)\n",
    "eff34 = eff(mw34)\n",
    "#\n",
    "eff41 = eff(mw41)\n",
    "eff42 = eff(mw42)\n",
    "eff43 = eff(mw43)\n",
    "\n",
    "## creating a data matrix\n",
    "trydata = np.asarray([sum(mw11),sum(mw22),sum(mw33),sum(mw44)])"
   ]
  },
  {
   "cell_type": "code",
   "execution_count": 14,
   "metadata": {
    "collapsed": false
   },
   "outputs": [
    {
     "name": "stdout",
     "output_type": "stream",
     "text": [
      "[[0.78125 0.      0.      0.00139]\n",
      " [0.      0.95307 0.      0.00148]\n",
      " [0.      0.      0.87387 0.07373]\n",
      " [0.00532 0.01449 0.06399 0.67306]]\n"
     ]
    }
   ],
   "source": [
    "## define efficiency matrix\n",
    "eff_all = np.asarray([[eff11,eff12,eff13,eff14],[eff21,eff22,eff23,eff24],[eff31,eff32,eff33,eff34],[eff41,eff42,eff43,eff44]])\n",
    "np.save('eff_matrix',eff_all)\n",
    "print(eff_all)"
   ]
  },
  {
   "cell_type": "markdown",
   "metadata": {
    "collapsed": false
   },
   "source": [
    "# doing the backward check"
   ]
  },
  {
   "cell_type": "code",
   "execution_count": 19,
   "metadata": {
    "collapsed": false
   },
   "outputs": [
    {
     "name": "stdout",
     "output_type": "stream",
     "text": [
      "[[ 1.28001815e+00  4.05166109e-05  1.95143821e-04 -2.66495282e-03]\n",
      " [ 1.58388364e-05  1.04927624e+00  1.70320511e-04 -2.32595694e-03]\n",
      " [ 8.60565161e-04  1.92134672e-03  1.15358893e+00 -1.26375288e-01]\n",
      " [-1.01996755e-02 -2.27723757e-02 -1.09680655e-01  1.49783769e+00]]\n",
      "[[ 1.00001418e+00  0.00000000e+00  0.00000000e+00 -3.70428442e-06]\n",
      " [ 0.00000000e+00  1.00003370e+00  0.00000000e+00 -3.44241627e-06]\n",
      " [ 0.00000000e+00  0.00000000e+00  1.00808675e+00 -9.31764998e-03]\n",
      " [-5.42622738e-05 -3.29971724e-04 -7.01846510e-03  1.00813464e+00]]\n"
     ]
    }
   ],
   "source": [
    "## also backward check \n",
    "inv_eff_all = np.linalg.inv(eff_all)\n",
    "check = inv_eff_all*eff_all\n",
    "print(inv_eff_all)\n",
    "print(check)"
   ]
  },
  {
   "cell_type": "code",
   "execution_count": 16,
   "metadata": {
    "collapsed": false
   },
   "outputs": [
    {
     "name": "stdout",
     "output_type": "stream",
     "text": [
      "[17437.95670581 99861.92098876 92497.80832032 88918.21840665]\n",
      "<class 'numpy.ndarray'>\n"
     ]
    }
   ],
   "source": [
    "testrun = inv_eff_all.dot(trydata)\n",
    "print(testrun)\n",
    "print(type(testrun))"
   ]
  },
  {
   "cell_type": "code",
   "execution_count": 0,
   "metadata": {
    "collapsed": false
   },
   "outputs": [
   ],
   "source": [
   ]
  },
  {
   "cell_type": "code",
   "execution_count": 0,
   "metadata": {
    "collapsed": false
   },
   "outputs": [
   ],
   "source": [
   ]
  },
  {
   "cell_type": "code",
   "execution_count": 0,
   "metadata": {
    "collapsed": false
   },
   "outputs": [
   ],
   "source": [
   ]
  }
 ],
 "metadata": {
  "kernelspec": {
   "display_name": "Python 3 (ROOT)",
   "language": "python",
   "name": "python3-root",
   "resource_dir": "/usr/local/share/jupyter/kernels/python3-root"
  },
  "language_info": {
   "codemirror_mode": {
    "name": "ipython",
    "version": 3
   },
   "file_extension": ".py",
   "mimetype": "text/x-python",
   "name": "python",
   "nbconvert_exporter": "python",
   "pygments_lexer": "ipython3",
   "version": "3.8.5"
  }
 },
 "nbformat": 4,
 "nbformat_minor": 4
}